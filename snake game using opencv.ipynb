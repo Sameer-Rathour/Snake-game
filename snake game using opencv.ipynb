{
 "cells": [
  {
   "cell_type": "markdown",
   "id": "7a28c999-aecc-408d-9357-f3a4b67fd332",
   "metadata": {},
   "source": [
    "##  Import Libraries"
   ]
  },
  {
   "cell_type": "code",
   "execution_count": 4,
   "id": "e0332748-051e-420e-b14d-1d3c14ba3e85",
   "metadata": {},
   "outputs": [],
   "source": [
    "import cv2\n",
    "import mediapipe as mp\n",
    "import numpy as np\n",
    "import random\n",
    "import math"
   ]
  },
  {
   "cell_type": "markdown",
   "id": "900737b4-9b1c-4659-a4b5-acdbc9418142",
   "metadata": {},
   "source": [
    "##  Initialize MediaPipe"
   ]
  },
  {
   "cell_type": "code",
   "execution_count": 6,
   "id": "a7390a4b-1b0e-4f15-b028-c436db0bb785",
   "metadata": {},
   "outputs": [],
   "source": [
    "\n",
    "mp_hands = mp.solutions.hands\n",
    "hands = mp_hands.Hands()\n",
    "mp_draw = mp.solutions.drawing_utils\n"
   ]
  },
  {
   "cell_type": "markdown",
   "id": "e7509163-8013-418b-8298-333e5442b602",
   "metadata": {},
   "source": [
    "## Video capture"
   ]
  },
  {
   "cell_type": "code",
   "execution_count": 8,
   "id": "9af1287f-053c-4ef1-9255-f16b2c94439d",
   "metadata": {},
   "outputs": [],
   "source": [
    "\n",
    "cap = cv2.VideoCapture(0)\n"
   ]
  },
  {
   "cell_type": "markdown",
   "id": "5535ec6d-7962-4348-b2b2-7b5daa3ea058",
   "metadata": {},
   "source": [
    "## Game state"
   ]
  },
  {
   "cell_type": "code",
   "execution_count": 13,
   "id": "0c9b35f9-9a8c-471c-9de9-8d3dba8b3c97",
   "metadata": {},
   "outputs": [],
   "source": [
    "\n",
    "snake = []\n",
    "snake_length = 0\n",
    "score = 0\n",
    "food = (random.randint(100, 500), random.randint(100, 400))\n",
    "food_emoji = random.choice([\"🍎\", \"🍇\", \"🍌\"])\n",
    "\n",
    "font = cv2.FONT_HERSHEY_SIMPLEX"
   ]
  },
  {
   "cell_type": "markdown",
   "id": "0d42ea39-d2a4-4329-b64a-621aa04f37ff",
   "metadata": {},
   "source": [
    "##  Collision with Food"
   ]
  },
  {
   "cell_type": "code",
   "execution_count": 16,
   "id": "aab0772b-cb0f-420f-bc28-7bd6ec98966c",
   "metadata": {},
   "outputs": [],
   "source": [
    "def get_index_finger_position(frame, results):\n",
    "    h, w, c = frame.shape\n",
    "    if results.multi_hand_landmarks:\n",
    "        for handLms in results.multi_hand_landmarks:\n",
    "            lm = handLms.landmark[8]  # Index fingertip\n",
    "            return int(lm.x * w), int(lm.y * h)\n",
    "    return None"
   ]
  },
  {
   "cell_type": "markdown",
   "id": "aacc1d49-3aff-4dd4-a874-0a8eaaa36d44",
   "metadata": {},
   "source": [
    "## Draw Snake and Food"
   ]
  },
  {
   "cell_type": "code",
   "execution_count": 21,
   "id": "4621a383-2e9b-44b7-adaf-d8c1a55f7a63",
   "metadata": {},
   "outputs": [],
   "source": [
    "while True:\n",
    "    ret, frame = cap.read()\n",
    "    if not ret:\n",
    "        break\n",
    "\n",
    "    frame = cv2.flip(frame, 1)\n",
    "    rgb = cv2.cvtColor(frame, cv2.COLOR_BGR2RGB)\n",
    "    results = hands.process(rgb)\n",
    "\n",
    "    index_finger = get_index_finger_position(frame, results)\n",
    "    if index_finger:\n",
    "        snake.append(index_finger)\n",
    "\n",
    "        # Trim the snake to the correct length\n",
    "        if len(snake) > snake_length:\n",
    "            snake.pop(0)\n",
    "\n",
    "        # Check collision with food\n",
    "        if math.hypot(index_finger[0] - food[0], index_finger[1] - food[1]) < 30:\n",
    "            score += 1\n",
    "            snake_length += 10\n",
    "            food = (random.randint(100, 500), random.randint(100, 400))\n",
    "            food_emoji = random.choice([\"🍎\", \"🍇\", \"🍌\"])\n",
    "\n",
    "    # Draw snake\n",
    "    for i in range(1, len(snake)):\n",
    "        cv2.line(frame, snake[i-1], snake[i], (0, 255, 0), 15)\n",
    "\n",
    "    # Draw food (as circle because OpenCV can't draw emojis)\n",
    "    cv2.circle(frame, food, 20, (0, 0, 255), -1)\n",
    "\n",
    "    # Display score\n",
    "    cv2.putText(frame, f\"Score: {score}\", (10, 40), font, 1, (255, 255, 255), 2)\n",
    "\n",
    "    cv2.imshow(\"Hand-Controlled Snake Game\", frame)\n",
    "\n",
    "    # Break loop on ESC\n",
    "    if cv2.waitKey(1) & 0xFF == 27:\n",
    "        break\n",
    "\n",
    "cap.release()\n",
    "cv2.destroyAllWindows()"
   ]
  },
  {
   "cell_type": "markdown",
   "id": "8587f8c8-5ca7-42af-8e85-f35f1b02aaa5",
   "metadata": {},
   "source": [
    "## Display Score"
   ]
  },
  {
   "cell_type": "code",
   "execution_count": 18,
   "id": "98de4807-c6ba-4226-b1db-53010c21db40",
   "metadata": {},
   "outputs": [
    {
     "name": "stdout",
     "output_type": "stream",
     "text": [
      "Game Over! Your Final Score is: 12\n"
     ]
    }
   ],
   "source": [
    "print(f\"Game Over! Your Final Score is: {score}\")"
   ]
  },
  {
   "cell_type": "code",
   "execution_count": null,
   "id": "2fd0941f-bdc0-4dac-9bc2-da358fe50733",
   "metadata": {},
   "outputs": [],
   "source": []
  }
 ],
 "metadata": {
  "kernelspec": {
   "display_name": "Python [conda env:venv]",
   "language": "python",
   "name": "conda-env-venv-py"
  },
  "language_info": {
   "codemirror_mode": {
    "name": "ipython",
    "version": 3
   },
   "file_extension": ".py",
   "mimetype": "text/x-python",
   "name": "python",
   "nbconvert_exporter": "python",
   "pygments_lexer": "ipython3",
   "version": "3.12.0"
  }
 },
 "nbformat": 4,
 "nbformat_minor": 5
}
